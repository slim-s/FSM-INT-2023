{
 "cells": [
  {
   "cell_type": "markdown",
   "id": "e545491e-4d74-4a3d-8908-a7e501440ae6",
   "metadata": {},
   "source": [
    "# Predictive maintenance of Lathe machine"
   ]
  },
  {
   "cell_type": "markdown",
   "id": "e819db72-d3b2-4eca-953f-6d75dc685401",
   "metadata": {},
   "source": [
    "#### Importing important libraries and modules"
   ]
  },
  {
   "cell_type": "code",
   "execution_count": 1,
   "id": "419d5f7a-1cbc-4f98-9e84-f36aae31527b",
   "metadata": {
    "tags": []
   },
   "outputs": [],
   "source": [
    "import pandas as pd\n",
    "import numpy as np\n",
    "import torch \n",
    "import tensorflow as tf\n",
    "import matplotlib as mpl\n",
    "from matplotlib import pyplot as plt\n",
    "import seaborn as sns\n",
    "import plotly.express as px\n",
    "import plotly.graph_objects as go\n",
    "from scipy import signal"
   ]
  },
  {
   "cell_type": "markdown",
   "id": "d3ea6834-0364-4056-ad83-48bdb30bfcbf",
   "metadata": {
    "tags": []
   },
   "source": [
    "#### Importing Vibration Data and converting it to proper Time-series format."
   ]
  },
  {
   "cell_type": "code",
   "execution_count": 4,
   "id": "65c058de-4d09-4058-9f16-e97ea9e5dec1",
   "metadata": {
    "collapsed": true,
    "jupyter": {
     "outputs_hidden": true
    },
    "tags": []
   },
   "outputs": [
    {
     "name": "stdout",
     "output_type": "stream",
     "text": [
      "1\n",
      "2\n",
      "3\n",
      "4\n",
      "5\n",
      "6\n",
      "7\n",
      "8\n",
      "9\n",
      "10\n",
      "11\n",
      "12\n",
      "13\n",
      "14\n",
      "15\n",
      "16\n",
      "17\n",
      "18\n",
      "19\n",
      "20\n",
      "21\n",
      "22\n",
      "23\n",
      "24\n",
      "25\n",
      "26\n",
      "27\n",
      "28\n",
      "29\n",
      "30\n",
      "31\n",
      "32\n",
      "33\n",
      "34\n",
      "35\n",
      "36\n",
      "37\n",
      "38\n",
      "39\n",
      "40\n",
      "41\n",
      "42\n",
      "43\n",
      "44\n",
      "45\n",
      "46\n",
      "47\n",
      "48\n",
      "49\n",
      "50\n",
      "51\n",
      "52\n",
      "53\n",
      "54\n",
      "55\n",
      "56\n",
      "57\n",
      "58\n",
      "59\n",
      "60\n"
     ]
    }
   ],
   "source": [
    "dataframes = []  # To store the imported data from each file\n",
    "\n",
    "for i in range(1, 61):\n",
    "    file = f\"Data/{i}.xlsx\"\n",
    "    df = pd.read_excel(file)  # Use pd.read_excel() for Excel files\n",
    "    df = df.dropna(axis='columns', how='all')  \n",
    "    df = df.dropna(axis='rows', how='all') \n",
    "    df.columns = ['Time', 'X', 'Y', 'Z']\n",
    "    df = df.iloc[1:]  # Exclude the original header row from the data\n",
    "    df['Time'] = pd.to_datetime(df['Time'], unit='s').dt.time  # Convert 'Time' column to datetime\n",
    "    dataframes.append(df)\n",
    "    print(i) #too keep an eye on progress\n"
   ]
  },
  {
   "cell_type": "code",
   "execution_count": 3,
   "id": "cc3abe66-1a7e-441c-a82d-08c041a3ccb0",
   "metadata": {
    "tags": []
   },
   "outputs": [],
   "source": [
    "exp = pd.read_excel(\"Data/Experiment Summary.xlsx\")"
   ]
  },
  {
   "cell_type": "code",
   "execution_count": 3,
   "id": "67f7a137-f093-4cd9-abee-b9aac725c1b5",
   "metadata": {
    "tags": []
   },
   "outputs": [
    {
     "data": {
      "text/html": [
       "<div>\n",
       "<style scoped>\n",
       "    .dataframe tbody tr th:only-of-type {\n",
       "        vertical-align: middle;\n",
       "    }\n",
       "\n",
       "    .dataframe tbody tr th {\n",
       "        vertical-align: top;\n",
       "    }\n",
       "\n",
       "    .dataframe thead th {\n",
       "        text-align: right;\n",
       "    }\n",
       "</style>\n",
       "<table border=\"1\" class=\"dataframe\">\n",
       "  <thead>\n",
       "    <tr style=\"text-align: right;\">\n",
       "      <th></th>\n",
       "      <th>Time</th>\n",
       "      <th>X</th>\n",
       "      <th>Y</th>\n",
       "      <th>Z</th>\n",
       "    </tr>\n",
       "  </thead>\n",
       "  <tbody>\n",
       "    <tr>\n",
       "      <th>0</th>\n",
       "      <td>00:00:00</td>\n",
       "      <td>-0.961714</td>\n",
       "      <td>-2.247089</td>\n",
       "      <td>-4.40107</td>\n",
       "    </tr>\n",
       "    <tr>\n",
       "      <th>1</th>\n",
       "      <td>00:00:00.000976</td>\n",
       "      <td>-0.394591</td>\n",
       "      <td>-2.298639</td>\n",
       "      <td>-1.552597</td>\n",
       "    </tr>\n",
       "    <tr>\n",
       "      <th>2</th>\n",
       "      <td>00:00:00.001953</td>\n",
       "      <td>-5.44346</td>\n",
       "      <td>0.849591</td>\n",
       "      <td>5.49498</td>\n",
       "    </tr>\n",
       "    <tr>\n",
       "      <th>3</th>\n",
       "      <td>00:00:00.002929</td>\n",
       "      <td>-1.46255</td>\n",
       "      <td>0.77963</td>\n",
       "      <td>1.958311</td>\n",
       "    </tr>\n",
       "    <tr>\n",
       "      <th>4</th>\n",
       "      <td>00:00:00.003906</td>\n",
       "      <td>1.148426</td>\n",
       "      <td>1.03738</td>\n",
       "      <td>-1.342826</td>\n",
       "    </tr>\n",
       "    <tr>\n",
       "      <th>...</th>\n",
       "      <td>...</td>\n",
       "      <td>...</td>\n",
       "      <td>...</td>\n",
       "      <td>...</td>\n",
       "    </tr>\n",
       "    <tr>\n",
       "      <th>1952219</th>\n",
       "      <td>00:00:18.495000</td>\n",
       "      <td>-3.362781</td>\n",
       "      <td>-3.635256</td>\n",
       "      <td>-1.346506</td>\n",
       "    </tr>\n",
       "    <tr>\n",
       "      <th>1952220</th>\n",
       "      <td>00:00:18.496000</td>\n",
       "      <td>-0.018964</td>\n",
       "      <td>1.722258</td>\n",
       "      <td>5.715792</td>\n",
       "    </tr>\n",
       "    <tr>\n",
       "      <th>1952221</th>\n",
       "      <td>00:00:18.497000</td>\n",
       "      <td>0.809625</td>\n",
       "      <td>5.128238</td>\n",
       "      <td>-0.1026</td>\n",
       "    </tr>\n",
       "    <tr>\n",
       "      <th>1952222</th>\n",
       "      <td>00:00:18.498000</td>\n",
       "      <td>-1.68719</td>\n",
       "      <td>-1.746318</td>\n",
       "      <td>-1.291303</td>\n",
       "    </tr>\n",
       "    <tr>\n",
       "      <th>1952223</th>\n",
       "      <td>00:00:18.499000</td>\n",
       "      <td>-2.762514</td>\n",
       "      <td>3.014689</td>\n",
       "      <td>2.068717</td>\n",
       "    </tr>\n",
       "  </tbody>\n",
       "</table>\n",
       "<p>1952224 rows × 4 columns</p>\n",
       "</div>"
      ],
      "text/plain": [
       "                    Time         X         Y         Z\n",
       "0               00:00:00 -0.961714 -2.247089  -4.40107\n",
       "1        00:00:00.000976 -0.394591 -2.298639 -1.552597\n",
       "2        00:00:00.001953  -5.44346  0.849591   5.49498\n",
       "3        00:00:00.002929  -1.46255   0.77963  1.958311\n",
       "4        00:00:00.003906  1.148426   1.03738 -1.342826\n",
       "...                  ...       ...       ...       ...\n",
       "1952219  00:00:18.495000 -3.362781 -3.635256 -1.346506\n",
       "1952220  00:00:18.496000 -0.018964  1.722258  5.715792\n",
       "1952221  00:00:18.497000  0.809625  5.128238   -0.1026\n",
       "1952222  00:00:18.498000  -1.68719 -1.746318 -1.291303\n",
       "1952223  00:00:18.499000 -2.762514  3.014689  2.068717\n",
       "\n",
       "[1952224 rows x 4 columns]"
      ]
     },
     "execution_count": 3,
     "metadata": {},
     "output_type": "execute_result"
    }
   ],
   "source": [
    "merged_df\n",
    "merged_df = pd.concat(dataframes, ignore_index=True)"
   ]
  },
  {
   "cell_type": "code",
   "execution_count": null,
   "id": "1519e844-0a8e-4b81-89c7-df426e0c75ec",
   "metadata": {},
   "outputs": [],
   "source": [
    "for i in dataframes:\n",
    "    d['X'] = pd.to_numeric(d['X'], errors='coerce')\n",
    "    d['Y'] = pd.to_numeric(d['Y'], errors='coerce')\n",
    "    d['Z'] = pd.to_numeric(d['Z'], errors='coerce')\n",
    "    "
   ]
  },
  {
   "cell_type": "markdown",
   "id": "07ae8d28-ab16-4fa9-bbe0-ed0f041f6043",
   "metadata": {},
   "source": [
    "#### Feature Extraction"
   ]
  },
  {
   "cell_type": "code",
   "execution_count": null,
   "id": "2f65d47b-7e4b-486d-b706-6b2157b43b71",
   "metadata": {},
   "outputs": [],
   "source": []
  },
  {
   "cell_type": "code",
   "execution_count": null,
   "id": "52593d98-776d-4ec6-a539-f7dd9e1ff551",
   "metadata": {
    "tags": []
   },
   "outputs": [],
   "source": [
    "for d in dataframes:\n",
    "    d['Magnitude'] = np.sqrt(d['X']**2 + d['Y']**2 + d['Z']**2)"
   ]
  },
  {
   "cell_type": "code",
   "execution_count": null,
   "id": "be4ff251-6424-42e5-88ea-bacbee942036",
   "metadata": {
    "tags": []
   },
   "outputs": [],
   "source": [
    "#view imported data.\n",
    "\n",
    "for i in range(60):\n",
    "    print(i)\n",
    "    print(dataframes[i].head(5), dataframes[i].shape)"
   ]
  },
  {
   "cell_type": "code",
   "execution_count": null,
   "id": "22becea8-69ed-4091-98f9-e94ee6ad4694",
   "metadata": {
    "tags": []
   },
   "outputs": [],
   "source": [
    "# Time_domain plot\n",
    "\n",
    "\n",
    "def time_domain(num):\n",
    "    df = dataframes[num]\n",
    "\n",
    "    # Create a line plot using Plotly\n",
    "    fig = px.line(df, x='Time', y=['Magnitude'], title='Vibration Sensor Data', labels={'value':'acceleration'})\n",
    "    \n",
    "    # Display the plot\n",
    "    fig.update_layout(\n",
    "        height=600,\n",
    "        showlegend=True,\n",
    "        paper_bgcolor= 'darkgrey')\n",
    "    fig.show()\n",
    "    \n",
    "\n",
    "    \n",
    "# Calculating PSD\n",
    "\n",
    "def calculate_psd(dataframe, fs=1000):\n",
    "    time = dataframe['Time']\n",
    "    x = dataframe['Magnitude']\n",
    "\n",
    "    # Convert time values to seconds\n",
    "    time_seconds = [(t.hour * 3600 + t.minute * 60 + t.second + t.microsecond / 1e6) for t in time]\n",
    "\n",
    "    # Apply Hanning window function\n",
    "    window = np.hanning(len(time_seconds))\n",
    "    x_windowed = x * window\n",
    " \n",
    "\n",
    "    # Calculate PSD using periodogram\n",
    "    f, psd_x = signal.periodogram(x_windowed, fs)\n",
    "\n",
    "\n",
    "    return f, psd_x\n",
    "\n"
   ]
  },
  {
   "cell_type": "code",
   "execution_count": null,
   "id": "6f75018c-f21e-4ee1-80c0-d058064f4a8d",
   "metadata": {
    "tags": []
   },
   "outputs": [],
   "source": [
    "#Plotting PSD\n",
    "\n",
    "\n",
    "def freq_domain(frequencies, psd_x):\n",
    "    # Convert complex PSD values to magnitude\n",
    "    psd_x_mag = np.abs(psd_x)\n",
    "\n",
    "    # Create line plots for X, Y, and Z axes\n",
    "    fig = go.Figure()\n",
    "\n",
    "    fig.add_trace(go.Scatter(x=frequencies, y=psd_x_mag, mode='lines', name='Magnitude'))\n",
    "\n",
    "    fig.update_layout(\n",
    "        title='Power Spectral Density',\n",
    "        xaxis=dict(title='Frequency'),\n",
    "        yaxis=dict(title='acceleration', type='log', range=[np.log10(1), np.log10(max(psd_x_mag))]),\n",
    "        showlegend=True,\n",
    "        paper_bgcolor= 'darkgrey',\n",
    "        height=600\n",
    "\n",
    "\n",
    "    )\n",
    "\n",
    "    fig.show()\n",
    "\n",
    "\n"
   ]
  },
  {
   "cell_type": "code",
   "execution_count": null,
   "id": "56f9652b-9279-495f-8dcb-15adf471e8ba",
   "metadata": {
    "tags": []
   },
   "outputs": [],
   "source": [
    "\n",
    "# Calculating PSD\n",
    "\n",
    "from scipy import signal\n",
    "from scipy.signal import welch\n",
    "\n",
    "def calculate_psd(dataframe, fs=1000, w=1):\n",
    "    time = dataframe['Time']\n",
    "    x = dataframe['X']\n",
    "    y = dataframe['Y']\n",
    "    z = dataframe['Z']\n",
    "\n",
    "    # Convert time values to seconds\n",
    "    time_seconds = [(t.hour * 3600 + t.minute * 60 + t.second + t.microsecond / 1e6) for t in time]\n",
    "\n",
    "    # Apply Hanning window function\n",
    "    window = np.hanning(len(time_seconds))\n",
    "    x_windowed = x * window\n",
    "    y_windowed = y * window\n",
    "    z_windowed = z * window\n",
    "\n",
    "    # Calculate PSD using periodogram\n",
    "    f, psd_x = welch(x_windowed, fs, nperseg=len(time_seconds)/w)\n",
    "    _, psd_y = welch(y_windowed, fs, nperseg=len(time_seconds)/w)\n",
    "    _, psd_z = welch(z_windowed, fs, nperseg=len(time_seconds)/w)\n",
    "\n",
    "    return f, psd_x, psd_y, psd_z\n",
    "\n"
   ]
  },
  {
   "cell_type": "code",
   "execution_count": null,
   "id": "7514c747-6d83-45f3-956b-6540937eab30",
   "metadata": {
    "tags": []
   },
   "outputs": [],
   "source": [
    "# Time_domain plot\n",
    "\n",
    "\n",
    "def time_domain(num):\n",
    "    df = dataframes[num]\n",
    "\n",
    "    # Create a line plot using Plotly\n",
    "    fig = px.line(df, x='Time', y=['X', 'Y', 'Z'], title='Vibration Sensor Data', labels={'value':'acceleration'})\n",
    "    \n",
    "    # Display the plot\n",
    "    fig.update_layout(\n",
    "        height=600,\n",
    "        showlegend=True,\n",
    "        paper_bgcolor= 'darkgrey')\n",
    "    fig.show()\n",
    "    \n",
    "\n",
    "\n",
    "def freq_domain(frequencies, psd_x, psd_y, psd_z):\n",
    "    # Convert complex PSD values to magnitude\n",
    "    psd_x_mag = np.abs(psd_x)\n",
    "    psd_y_mag = np.abs(psd_y)\n",
    "    psd_z_mag = np.abs(psd_z)\n",
    "\n",
    "    # Create line plots for X, Y, and Z axes\n",
    "    fig = go.Figure()\n",
    "\n",
    "    fig.add_trace(go.Scatter(x=frequencies, y=psd_x_mag, mode='lines', name='X'))\n",
    "    fig.add_trace(go.Scatter(x=frequencies, y=psd_y_mag, mode='lines', name='Y'))\n",
    "    fig.add_trace(go.Scatter(x=frequencies, y=psd_z_mag, mode='lines', name='Z'))\n",
    "\n",
    "    fig.update_layout(\n",
    "        title='Power Spectral Density',\n",
    "        xaxis=dict(title='Frequency'),\n",
    "        yaxis=dict(title='acceleration'),\n",
    "        showlegend=True,\n",
    "        paper_bgcolor= 'darkgrey',\n",
    "        height=600\n",
    "\n",
    "\n",
    "    )\n",
    "\n",
    "    fig.show()"
   ]
  },
  {
   "cell_type": "markdown",
   "id": "ab162f99-4c39-4ea3-badf-ce2ad2812d36",
   "metadata": {},
   "source": [
    "### Time Domain, Frequency Domain and time vs frequency charts:"
   ]
  },
  {
   "cell_type": "markdown",
   "id": "c878ddd3-8ab1-4824-a7e7-7b2f873f13af",
   "metadata": {},
   "source": [
    "##### RPM: 190"
   ]
  },
  {
   "cell_type": "code",
   "execution_count": null,
   "id": "b62d5de4-3fde-4449-8c58-02131c567548",
   "metadata": {
    "tags": []
   },
   "outputs": [],
   "source": [
    "from scipy.signal import find_peaks\n",
    "\n",
    "# Calling the function with the DataFrames\n",
    "for j in range(5):\n",
    "    for i in range(j, 60, 20):\n",
    "        print(exp.iloc[i])\n",
    "        new = time_domain(i) \n",
    "        experiment, x, y, z = calculate_psd(dataframes[i], fs=500, w=32)\n",
    "        plo = freq_domain(experiment, x, y, z)\n",
    "        \n",
    "        print()\n",
    "    "
   ]
  },
  {
   "cell_type": "code",
   "execution_count": null,
   "id": "b7896101-6e07-4fc7-8061-c8e3260f47b4",
   "metadata": {},
   "outputs": [],
   "source": []
  }
 ],
 "metadata": {
  "kernelspec": {
   "display_name": "pytorch",
   "language": "python",
   "name": "tf"
  },
  "language_info": {
   "codemirror_mode": {
    "name": "ipython",
    "version": 3
   },
   "file_extension": ".py",
   "mimetype": "text/x-python",
   "name": "python",
   "nbconvert_exporter": "python",
   "pygments_lexer": "ipython3",
   "version": "3.10.11"
  }
 },
 "nbformat": 4,
 "nbformat_minor": 5
}
